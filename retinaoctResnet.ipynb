{
 "cells": [
  {
   "cell_type": "markdown",
   "metadata": {},
   "source": [
    "## 此版本现在多了confusion matrix, 取消l2, 进行finetune"
   ]
  },
  {
   "cell_type": "code",
   "execution_count": 1,
   "metadata": {},
   "outputs": [],
   "source": [
    "from torchvision import transforms, utils\n",
    "from torchvision import datasets\n",
    "import torch\n",
    "import matplotlib.pyplot as plt \n",
    "from torch.utils import data\n",
    "import random\n",
    "import numpy as np\n",
    "import torch.nn as nn\n",
    "import torch.optim as optim\n",
    "import time\n",
    "from torch.utils.data.sampler import SubsetRandomSampler\n",
    "import copy\n",
    "from sklearn.metrics import confusion_matrix"
   ]
  },
  {
   "cell_type": "markdown",
   "metadata": {},
   "source": [
    "## load data"
   ]
  },
  {
   "cell_type": "code",
   "execution_count": 2,
   "metadata": {},
   "outputs": [],
   "source": [
    "# def splitData(datadir,val_size = 0.2):\n",
    "    \n",
    "#     train_trainsforms = transforms.Compose([transforms.RandomResizedCrop(299),\n",
    "#                 transforms.RandomHorizontalFlip(),\n",
    "#                 transforms.RandomRotation(30),\n",
    "#                 transforms.ToTensor(),\n",
    "#                 #transforms.Normalize((0.485, 0.456, 0.406),(0.229, 0.224, 0.225))])\n",
    "#                 transforms.Normalize((0.5, 0.5, 0.5),(0.5, 0.5, 0.5))])\n",
    "#     val_trainsforms = transforms.Compose([transforms.RandomResizedCrop(299),\n",
    "#                 transforms.ToTensor(),\n",
    "#                 transforms.Normalize((0.5, 0.5, 0.5),(0.5, 0.5, 0.5))\n",
    "# ])\n",
    "\n",
    "#     train_data = datasets.ImageFolder(datadir,transform=train_trainsforms)\n",
    "#     val_data = datasets.ImageFolder(datadir,transform=val_trainsforms)\n",
    "\n",
    "#     num = len(train_data)                              \n",
    "#     idx = list(range(num))                         \n",
    "#     split = int(np.floor(val_size * num))         \n",
    "#     np.random.shuffle(idx)                              \n",
    "\n",
    "#     val_idx, train_idx = idx[:split], idx[split:]\n",
    "#     train_sampler = SubsetRandomSampler(train_idx)            \n",
    "#     val_sampler  = SubsetRandomSampler(val_idx)\n",
    "#     train_loader = data.DataLoader(train_data,sampler=train_sampler,batch_size=64)\n",
    "#     val_loader = data.DataLoader(val_data,sampler=val_sampler,batch_size=64)\n",
    "    \n",
    "#     return train_loader,val_loader\n"
   ]
  },
  {
   "cell_type": "code",
   "execution_count": 3,
   "metadata": {},
   "outputs": [],
   "source": [
    "def make_weights_for_balanced_classes(images, nclasses):                        \n",
    "    count = [0] * nclasses                                                      \n",
    "    for item in images:                                                         \n",
    "        count[item[1]] += 1                                                     \n",
    "    weight_per_class = [0.] * nclasses                                      \n",
    "    N = float(sum(count))                                                   \n",
    "    for i in range(nclasses):                                                   \n",
    "        weight_per_class[i] = 1/float(count[i])                                 \n",
    "    weight = [0] * len(images)                                              \n",
    "    for idx, val in enumerate(images):                                          \n",
    "        weight[idx] = weight_per_class[val[1]]  \n",
    "    print(N)\n",
    "    print(weight_per_class)\n",
    "    return weight"
   ]
  },
  {
   "cell_type": "code",
   "execution_count": 4,
   "metadata": {},
   "outputs": [
    {
     "name": "stdout",
     "output_type": "stream",
     "text": [
      "1600.0\n",
      "[0.0025, 0.0025, 0.0025, 0.0025]\n"
     ]
    },
    {
     "name": "stderr",
     "output_type": "stream",
     "text": [
      "/home/ruochenwen/anaconda3/envs/fastai/lib/python3.6/site-packages/torch/utils/data/sampler.py:115: UserWarning: To copy construct from a tensor, it is recommended to use sourceTensor.clone().detach() or sourceTensor.clone().detach().requires_grad_(True), rather than torch.tensor(sourceTensor).\n",
      "  self.weights = torch.tensor(weights, dtype=torch.double)\n"
     ]
    }
   ],
   "source": [
    "#train_data_dir = 'OCT2017/test/'\n",
    "#train_loader, val_loader = splitData(train_data_dir,val_size = 0.2)\n",
    "batch_size = 128\n",
    "train_size = 1600\n",
    "train_data = datasets.ImageFolder(root='OCT2017/train_limit/', transform=transforms.Compose([\n",
    "    transforms.CenterCrop(224),\n",
    "    transforms.RandomHorizontalFlip(),\n",
    "    transforms.RandomRotation(30),\n",
    "    transforms.ToTensor(),\n",
    "    transforms.Normalize([0.485, 0.456, 0.406], [0.229, 0.224, 0.225])\n",
    "]))\n",
    "\n",
    "val_data = datasets.ImageFolder(root='OCT2017/val/', transform=transforms.Compose([\n",
    "    transforms.CenterCrop(224),\n",
    "    transforms.ToTensor(),\n",
    "    transforms.Normalize([0.485, 0.456, 0.406], [0.229, 0.224, 0.225])\n",
    "]))\n",
    "\n",
    "test_data = datasets.ImageFolder(root='OCT2017/test/', transform=transforms.Compose([\n",
    "    transforms.CenterCrop(224),\n",
    "    transforms.ToTensor(),\n",
    "    transforms.Normalize([0.485, 0.456, 0.406], [0.229, 0.224, 0.225])\n",
    "]))\n",
    "\n",
    "weights = make_weights_for_balanced_classes(train_data.imgs, len(train_data.classes))\n",
    "weights = torch.DoubleTensor(weights)\n",
    "#weight_sampler = torch.utils.data.sampler.WeightedRandomSampler(weights, len(weights))\n",
    "weight_sampler = torch.utils.data.sampler.WeightedRandomSampler(weights, train_size)\n",
    "\n",
    "train_loader = data.DataLoader(train_data,\n",
    "                               batch_size=batch_size,\n",
    "                               sampler = weight_sampler\n",
    "                                            )\n",
    "       \n",
    "\n",
    "val_loader = data.DataLoader(val_data,\n",
    "                             batch_size=batch_size,\n",
    "                             shuffle=True,\n",
    "                                        )\n",
    "\n",
    "\n",
    "test_loader = data.DataLoader(test_data,\n",
    "                                            batch_size=batch_size,\n",
    "                                            shuffle=True,\n",
    "                                            )\n",
    "       \n"
   ]
  },
  {
   "cell_type": "code",
   "execution_count": 5,
   "metadata": {},
   "outputs": [
    {
     "name": "stdout",
     "output_type": "stream",
     "text": [
      "8\n"
     ]
    },
    {
     "data": {
      "text/plain": [
       "[2.232011906372615, 7.4323301495765, 9.859431030360986, 3.164550163053904]"
      ]
     },
     "execution_count": 5,
     "metadata": {},
     "output_type": "execute_result"
    }
   ],
   "source": [
    "print(len(val_loader))\n",
    "82484.0\n",
    "[2.232011906372615, 7.4323301495765, 9.859431030360986, 3.164550163053904]\n"
   ]
  },
  {
   "cell_type": "markdown",
   "metadata": {},
   "source": [
    "## load pre-trained model"
   ]
  },
  {
   "cell_type": "code",
   "execution_count": 6,
   "metadata": {},
   "outputs": [],
   "source": [
    "import torchvision.models as models\n",
    "resnet = models.resnet50(pretrained=True)\n"
   ]
  },
  {
   "cell_type": "code",
   "execution_count": 7,
   "metadata": {},
   "outputs": [
    {
     "name": "stdout",
     "output_type": "stream",
     "text": [
      "ResNet(\n",
      "  (conv1): Conv2d(3, 64, kernel_size=(7, 7), stride=(2, 2), padding=(3, 3), bias=False)\n",
      "  (bn1): BatchNorm2d(64, eps=1e-05, momentum=0.1, affine=True, track_running_stats=True)\n",
      "  (relu): ReLU(inplace)\n",
      "  (maxpool): MaxPool2d(kernel_size=3, stride=2, padding=1, dilation=1, ceil_mode=False)\n",
      "  (layer1): Sequential(\n",
      "    (0): Bottleneck(\n",
      "      (conv1): Conv2d(64, 64, kernel_size=(1, 1), stride=(1, 1), bias=False)\n",
      "      (bn1): BatchNorm2d(64, eps=1e-05, momentum=0.1, affine=True, track_running_stats=True)\n",
      "      (conv2): Conv2d(64, 64, kernel_size=(3, 3), stride=(1, 1), padding=(1, 1), bias=False)\n",
      "      (bn2): BatchNorm2d(64, eps=1e-05, momentum=0.1, affine=True, track_running_stats=True)\n",
      "      (conv3): Conv2d(64, 256, kernel_size=(1, 1), stride=(1, 1), bias=False)\n",
      "      (bn3): BatchNorm2d(256, eps=1e-05, momentum=0.1, affine=True, track_running_stats=True)\n",
      "      (relu): ReLU(inplace)\n",
      "      (downsample): Sequential(\n",
      "        (0): Conv2d(64, 256, kernel_size=(1, 1), stride=(1, 1), bias=False)\n",
      "        (1): BatchNorm2d(256, eps=1e-05, momentum=0.1, affine=True, track_running_stats=True)\n",
      "      )\n",
      "    )\n",
      "    (1): Bottleneck(\n",
      "      (conv1): Conv2d(256, 64, kernel_size=(1, 1), stride=(1, 1), bias=False)\n",
      "      (bn1): BatchNorm2d(64, eps=1e-05, momentum=0.1, affine=True, track_running_stats=True)\n",
      "      (conv2): Conv2d(64, 64, kernel_size=(3, 3), stride=(1, 1), padding=(1, 1), bias=False)\n",
      "      (bn2): BatchNorm2d(64, eps=1e-05, momentum=0.1, affine=True, track_running_stats=True)\n",
      "      (conv3): Conv2d(64, 256, kernel_size=(1, 1), stride=(1, 1), bias=False)\n",
      "      (bn3): BatchNorm2d(256, eps=1e-05, momentum=0.1, affine=True, track_running_stats=True)\n",
      "      (relu): ReLU(inplace)\n",
      "    )\n",
      "    (2): Bottleneck(\n",
      "      (conv1): Conv2d(256, 64, kernel_size=(1, 1), stride=(1, 1), bias=False)\n",
      "      (bn1): BatchNorm2d(64, eps=1e-05, momentum=0.1, affine=True, track_running_stats=True)\n",
      "      (conv2): Conv2d(64, 64, kernel_size=(3, 3), stride=(1, 1), padding=(1, 1), bias=False)\n",
      "      (bn2): BatchNorm2d(64, eps=1e-05, momentum=0.1, affine=True, track_running_stats=True)\n",
      "      (conv3): Conv2d(64, 256, kernel_size=(1, 1), stride=(1, 1), bias=False)\n",
      "      (bn3): BatchNorm2d(256, eps=1e-05, momentum=0.1, affine=True, track_running_stats=True)\n",
      "      (relu): ReLU(inplace)\n",
      "    )\n",
      "  )\n",
      "  (layer2): Sequential(\n",
      "    (0): Bottleneck(\n",
      "      (conv1): Conv2d(256, 128, kernel_size=(1, 1), stride=(1, 1), bias=False)\n",
      "      (bn1): BatchNorm2d(128, eps=1e-05, momentum=0.1, affine=True, track_running_stats=True)\n",
      "      (conv2): Conv2d(128, 128, kernel_size=(3, 3), stride=(2, 2), padding=(1, 1), bias=False)\n",
      "      (bn2): BatchNorm2d(128, eps=1e-05, momentum=0.1, affine=True, track_running_stats=True)\n",
      "      (conv3): Conv2d(128, 512, kernel_size=(1, 1), stride=(1, 1), bias=False)\n",
      "      (bn3): BatchNorm2d(512, eps=1e-05, momentum=0.1, affine=True, track_running_stats=True)\n",
      "      (relu): ReLU(inplace)\n",
      "      (downsample): Sequential(\n",
      "        (0): Conv2d(256, 512, kernel_size=(1, 1), stride=(2, 2), bias=False)\n",
      "        (1): BatchNorm2d(512, eps=1e-05, momentum=0.1, affine=True, track_running_stats=True)\n",
      "      )\n",
      "    )\n",
      "    (1): Bottleneck(\n",
      "      (conv1): Conv2d(512, 128, kernel_size=(1, 1), stride=(1, 1), bias=False)\n",
      "      (bn1): BatchNorm2d(128, eps=1e-05, momentum=0.1, affine=True, track_running_stats=True)\n",
      "      (conv2): Conv2d(128, 128, kernel_size=(3, 3), stride=(1, 1), padding=(1, 1), bias=False)\n",
      "      (bn2): BatchNorm2d(128, eps=1e-05, momentum=0.1, affine=True, track_running_stats=True)\n",
      "      (conv3): Conv2d(128, 512, kernel_size=(1, 1), stride=(1, 1), bias=False)\n",
      "      (bn3): BatchNorm2d(512, eps=1e-05, momentum=0.1, affine=True, track_running_stats=True)\n",
      "      (relu): ReLU(inplace)\n",
      "    )\n",
      "    (2): Bottleneck(\n",
      "      (conv1): Conv2d(512, 128, kernel_size=(1, 1), stride=(1, 1), bias=False)\n",
      "      (bn1): BatchNorm2d(128, eps=1e-05, momentum=0.1, affine=True, track_running_stats=True)\n",
      "      (conv2): Conv2d(128, 128, kernel_size=(3, 3), stride=(1, 1), padding=(1, 1), bias=False)\n",
      "      (bn2): BatchNorm2d(128, eps=1e-05, momentum=0.1, affine=True, track_running_stats=True)\n",
      "      (conv3): Conv2d(128, 512, kernel_size=(1, 1), stride=(1, 1), bias=False)\n",
      "      (bn3): BatchNorm2d(512, eps=1e-05, momentum=0.1, affine=True, track_running_stats=True)\n",
      "      (relu): ReLU(inplace)\n",
      "    )\n",
      "    (3): Bottleneck(\n",
      "      (conv1): Conv2d(512, 128, kernel_size=(1, 1), stride=(1, 1), bias=False)\n",
      "      (bn1): BatchNorm2d(128, eps=1e-05, momentum=0.1, affine=True, track_running_stats=True)\n",
      "      (conv2): Conv2d(128, 128, kernel_size=(3, 3), stride=(1, 1), padding=(1, 1), bias=False)\n",
      "      (bn2): BatchNorm2d(128, eps=1e-05, momentum=0.1, affine=True, track_running_stats=True)\n",
      "      (conv3): Conv2d(128, 512, kernel_size=(1, 1), stride=(1, 1), bias=False)\n",
      "      (bn3): BatchNorm2d(512, eps=1e-05, momentum=0.1, affine=True, track_running_stats=True)\n",
      "      (relu): ReLU(inplace)\n",
      "    )\n",
      "  )\n",
      "  (layer3): Sequential(\n",
      "    (0): Bottleneck(\n",
      "      (conv1): Conv2d(512, 256, kernel_size=(1, 1), stride=(1, 1), bias=False)\n",
      "      (bn1): BatchNorm2d(256, eps=1e-05, momentum=0.1, affine=True, track_running_stats=True)\n",
      "      (conv2): Conv2d(256, 256, kernel_size=(3, 3), stride=(2, 2), padding=(1, 1), bias=False)\n",
      "      (bn2): BatchNorm2d(256, eps=1e-05, momentum=0.1, affine=True, track_running_stats=True)\n",
      "      (conv3): Conv2d(256, 1024, kernel_size=(1, 1), stride=(1, 1), bias=False)\n",
      "      (bn3): BatchNorm2d(1024, eps=1e-05, momentum=0.1, affine=True, track_running_stats=True)\n",
      "      (relu): ReLU(inplace)\n",
      "      (downsample): Sequential(\n",
      "        (0): Conv2d(512, 1024, kernel_size=(1, 1), stride=(2, 2), bias=False)\n",
      "        (1): BatchNorm2d(1024, eps=1e-05, momentum=0.1, affine=True, track_running_stats=True)\n",
      "      )\n",
      "    )\n",
      "    (1): Bottleneck(\n",
      "      (conv1): Conv2d(1024, 256, kernel_size=(1, 1), stride=(1, 1), bias=False)\n",
      "      (bn1): BatchNorm2d(256, eps=1e-05, momentum=0.1, affine=True, track_running_stats=True)\n",
      "      (conv2): Conv2d(256, 256, kernel_size=(3, 3), stride=(1, 1), padding=(1, 1), bias=False)\n",
      "      (bn2): BatchNorm2d(256, eps=1e-05, momentum=0.1, affine=True, track_running_stats=True)\n",
      "      (conv3): Conv2d(256, 1024, kernel_size=(1, 1), stride=(1, 1), bias=False)\n",
      "      (bn3): BatchNorm2d(1024, eps=1e-05, momentum=0.1, affine=True, track_running_stats=True)\n",
      "      (relu): ReLU(inplace)\n",
      "    )\n",
      "    (2): Bottleneck(\n",
      "      (conv1): Conv2d(1024, 256, kernel_size=(1, 1), stride=(1, 1), bias=False)\n",
      "      (bn1): BatchNorm2d(256, eps=1e-05, momentum=0.1, affine=True, track_running_stats=True)\n",
      "      (conv2): Conv2d(256, 256, kernel_size=(3, 3), stride=(1, 1), padding=(1, 1), bias=False)\n",
      "      (bn2): BatchNorm2d(256, eps=1e-05, momentum=0.1, affine=True, track_running_stats=True)\n",
      "      (conv3): Conv2d(256, 1024, kernel_size=(1, 1), stride=(1, 1), bias=False)\n",
      "      (bn3): BatchNorm2d(1024, eps=1e-05, momentum=0.1, affine=True, track_running_stats=True)\n",
      "      (relu): ReLU(inplace)\n",
      "    )\n",
      "    (3): Bottleneck(\n",
      "      (conv1): Conv2d(1024, 256, kernel_size=(1, 1), stride=(1, 1), bias=False)\n",
      "      (bn1): BatchNorm2d(256, eps=1e-05, momentum=0.1, affine=True, track_running_stats=True)\n",
      "      (conv2): Conv2d(256, 256, kernel_size=(3, 3), stride=(1, 1), padding=(1, 1), bias=False)\n",
      "      (bn2): BatchNorm2d(256, eps=1e-05, momentum=0.1, affine=True, track_running_stats=True)\n",
      "      (conv3): Conv2d(256, 1024, kernel_size=(1, 1), stride=(1, 1), bias=False)\n",
      "      (bn3): BatchNorm2d(1024, eps=1e-05, momentum=0.1, affine=True, track_running_stats=True)\n",
      "      (relu): ReLU(inplace)\n",
      "    )\n",
      "    (4): Bottleneck(\n",
      "      (conv1): Conv2d(1024, 256, kernel_size=(1, 1), stride=(1, 1), bias=False)\n",
      "      (bn1): BatchNorm2d(256, eps=1e-05, momentum=0.1, affine=True, track_running_stats=True)\n",
      "      (conv2): Conv2d(256, 256, kernel_size=(3, 3), stride=(1, 1), padding=(1, 1), bias=False)\n",
      "      (bn2): BatchNorm2d(256, eps=1e-05, momentum=0.1, affine=True, track_running_stats=True)\n",
      "      (conv3): Conv2d(256, 1024, kernel_size=(1, 1), stride=(1, 1), bias=False)\n",
      "      (bn3): BatchNorm2d(1024, eps=1e-05, momentum=0.1, affine=True, track_running_stats=True)\n",
      "      (relu): ReLU(inplace)\n",
      "    )\n",
      "    (5): Bottleneck(\n",
      "      (conv1): Conv2d(1024, 256, kernel_size=(1, 1), stride=(1, 1), bias=False)\n",
      "      (bn1): BatchNorm2d(256, eps=1e-05, momentum=0.1, affine=True, track_running_stats=True)\n",
      "      (conv2): Conv2d(256, 256, kernel_size=(3, 3), stride=(1, 1), padding=(1, 1), bias=False)\n",
      "      (bn2): BatchNorm2d(256, eps=1e-05, momentum=0.1, affine=True, track_running_stats=True)\n",
      "      (conv3): Conv2d(256, 1024, kernel_size=(1, 1), stride=(1, 1), bias=False)\n",
      "      (bn3): BatchNorm2d(1024, eps=1e-05, momentum=0.1, affine=True, track_running_stats=True)\n",
      "      (relu): ReLU(inplace)\n",
      "    )\n",
      "  )\n",
      "  (layer4): Sequential(\n",
      "    (0): Bottleneck(\n",
      "      (conv1): Conv2d(1024, 512, kernel_size=(1, 1), stride=(1, 1), bias=False)\n",
      "      (bn1): BatchNorm2d(512, eps=1e-05, momentum=0.1, affine=True, track_running_stats=True)\n",
      "      (conv2): Conv2d(512, 512, kernel_size=(3, 3), stride=(2, 2), padding=(1, 1), bias=False)\n",
      "      (bn2): BatchNorm2d(512, eps=1e-05, momentum=0.1, affine=True, track_running_stats=True)\n",
      "      (conv3): Conv2d(512, 2048, kernel_size=(1, 1), stride=(1, 1), bias=False)\n",
      "      (bn3): BatchNorm2d(2048, eps=1e-05, momentum=0.1, affine=True, track_running_stats=True)\n",
      "      (relu): ReLU(inplace)\n",
      "      (downsample): Sequential(\n",
      "        (0): Conv2d(1024, 2048, kernel_size=(1, 1), stride=(2, 2), bias=False)\n",
      "        (1): BatchNorm2d(2048, eps=1e-05, momentum=0.1, affine=True, track_running_stats=True)\n",
      "      )\n",
      "    )\n",
      "    (1): Bottleneck(\n",
      "      (conv1): Conv2d(2048, 512, kernel_size=(1, 1), stride=(1, 1), bias=False)\n",
      "      (bn1): BatchNorm2d(512, eps=1e-05, momentum=0.1, affine=True, track_running_stats=True)\n",
      "      (conv2): Conv2d(512, 512, kernel_size=(3, 3), stride=(1, 1), padding=(1, 1), bias=False)\n",
      "      (bn2): BatchNorm2d(512, eps=1e-05, momentum=0.1, affine=True, track_running_stats=True)\n",
      "      (conv3): Conv2d(512, 2048, kernel_size=(1, 1), stride=(1, 1), bias=False)\n",
      "      (bn3): BatchNorm2d(2048, eps=1e-05, momentum=0.1, affine=True, track_running_stats=True)\n",
      "      (relu): ReLU(inplace)\n",
      "    )\n",
      "    (2): Bottleneck(\n",
      "      (conv1): Conv2d(2048, 512, kernel_size=(1, 1), stride=(1, 1), bias=False)\n",
      "      (bn1): BatchNorm2d(512, eps=1e-05, momentum=0.1, affine=True, track_running_stats=True)\n",
      "      (conv2): Conv2d(512, 512, kernel_size=(3, 3), stride=(1, 1), padding=(1, 1), bias=False)\n",
      "      (bn2): BatchNorm2d(512, eps=1e-05, momentum=0.1, affine=True, track_running_stats=True)\n",
      "      (conv3): Conv2d(512, 2048, kernel_size=(1, 1), stride=(1, 1), bias=False)\n",
      "      (bn3): BatchNorm2d(2048, eps=1e-05, momentum=0.1, affine=True, track_running_stats=True)\n",
      "      (relu): ReLU(inplace)\n",
      "    )\n",
      "  )\n",
      "  (avgpool): AvgPool2d(kernel_size=7, stride=1, padding=0)\n",
      "  (fc): Linear(in_features=2048, out_features=1000, bias=True)\n",
      ")\n"
     ]
    }
   ],
   "source": [
    "print(resnet)"
   ]
  },
  {
   "cell_type": "markdown",
   "metadata": {},
   "source": [
    "## parameter setting"
   ]
  },
  {
   "cell_type": "code",
   "execution_count": 8,
   "metadata": {},
   "outputs": [],
   "source": [
    "def set_parameter_requires_grad(model, feature_extracting):\n",
    "    if feature_extracting:\n",
    "        for param in model.parameters():\n",
    "            param.requires_grad = False\n",
    "#     else:\n",
    "#         for parma in model.parameters():\n",
    "#             parma.requires_grad = False\n",
    "#         for parma in model.layer4.parameters():\n",
    "#              parma.requires_grad=True\n",
    "#         for parma in model.layer3.parameters():\n",
    "#              parma.requires_grad=True\n",
    "#         for parma in model.layer2.parameters():\n",
    "#              parma.requires_grad=True\n",
    "#         for parma in model.layer1.parameters():\n",
    "#              parma.requires_grad=True\n",
    "    else:\n",
    "        for param in model.parameters():\n",
    "            param.requires_grad = True\n",
    "        \n"
   ]
  },
  {
   "cell_type": "code",
   "execution_count": 9,
   "metadata": {},
   "outputs": [],
   "source": [
    "feature_extract = True\n",
    "para = set_parameter_requires_grad(resnet, feature_extract)\n",
    "\n",
    "num_ftrs = resnet.fc.in_features\n",
    "#inception.fc=nn.Linear(num_ftrs, out_features=4, bias=True)\n",
    "#fc1 = nn.Linear(num_ftrs, out_features=1000, bias=True)\n",
    "#resnet.fc = nn.Linear(num_ftrs, out_features=4, bias=True)\n",
    "resnet.fc =nn.Sequential(nn.Linear(num_ftrs, out_features=1000, bias=True),\n",
    "                              nn.Linear(1000, out_features=4, bias=True)\n",
    "                                 )\n"
   ]
  },
  {
   "cell_type": "markdown",
   "metadata": {},
   "source": [
    "## optimizer setting"
   ]
  },
  {
   "cell_type": "code",
   "execution_count": 10,
   "metadata": {},
   "outputs": [
    {
     "name": "stdout",
     "output_type": "stream",
     "text": [
      "Params to learn:\n"
     ]
    }
   ],
   "source": [
    "params_to_update = resnet.parameters()\n",
    "\n",
    "fc_params = list(map(id, resnet.fc.parameters()))\n",
    "base_params = filter(lambda p: id(p) not in fc_params,\n",
    "                     resnet.parameters())\n",
    "\n",
    "\n",
    "print(\"Params to learn:\")\n",
    "if feature_extract:\n",
    "    params_to_update = []\n",
    "    for name,param in resnet.named_parameters():\n",
    "        if param.requires_grad == True:\n",
    "            params_to_update.append(param)\n",
    "else:\n",
    "    conv_para = []\n",
    "    fc_para = []\n",
    "    print(\"fine tune:\")\n",
    "    for name,param in resnet.named_parameters():\n",
    "        if param.requires_grad == True:\n",
    "            print(\"\\t\", name)\n",
    "\n",
    "\n",
    "        \n",
    "# Observe that all parameters are being optimized\n",
    "#optimizer_inception = optim.SGD(params_to_update, lr=0.001, momentum=0.9)\n",
    "\n",
    "optimizer_resnet = optim.Adam(list(filter(lambda p: p.requires_grad,resnet.parameters())), lr=5e-4, betas=(0.9, 0.99))\n",
    "#optimizer_inception = optim.Adam(params_to_update, lr=0.001, betas=(0.9, 0.99))\n",
    "#optimizer_resnet = optim.Adam([{'params': resnet.fc.parameters(), 'lr': 5e-5},\n",
    "#                      {'params': base_params, 'lr': 5e-5}], betas=(0.9, 0.99))"
   ]
  },
  {
   "cell_type": "code",
   "execution_count": 11,
   "metadata": {},
   "outputs": [],
   "source": [
    "# def exp_lr_scheduler(optimizer, epoch, lr_decay_epoch=5):\n",
    "#     \"\"\"Decay learning rate by a factor of 0.1 every lr_decay_epoch epochs.\"\"\"\n",
    "#     for param_group in optimizer.param_groups:\n",
    "#         param_group['lr'] = param_group['lr'] * (0.1**(epoch // lr_decay_epoch))\n",
    "#         # param_group['lr'] = param_group['lr']\n",
    "#     if epoch % lr_decay_epoch == 0:\n",
    "#         for param_group in optimizer.param_groups:\n",
    "#             print('LR is set to {}'.format(param_group['lr']))\n",
    "            \n",
    "#     return optimizer\n"
   ]
  },
  {
   "cell_type": "code",
   "execution_count": 12,
   "metadata": {},
   "outputs": [],
   "source": [
    "def exp_lr_scheduler(optimizer, epoch, init_lr=5e-5, lr_decay_epoch=10):\n",
    "    \"\"\"Decay learning rate by a factor of 0.1 every lr_decay_epoch epochs.\"\"\"\n",
    "    lr = init_lr * (0.3**(epoch // lr_decay_epoch))\n",
    "    if epoch % lr_decay_epoch == 0:\n",
    "        \n",
    "        print('LR is set to {}'.format(lr))\n",
    " \n",
    "    for param_group in optimizer.param_groups:\n",
    "        param_group['lr'] = lr\n",
    " \n",
    "    return optimizer"
   ]
  },
  {
   "cell_type": "markdown",
   "metadata": {},
   "source": [
    "## train model"
   ]
  },
  {
   "cell_type": "code",
   "execution_count": 13,
   "metadata": {},
   "outputs": [],
   "source": [
    "use_cuda = 1\n",
    "if use_cuda:\n",
    "    resnet = resnet.cuda()"
   ]
  },
  {
   "cell_type": "code",
   "execution_count": 14,
   "metadata": {},
   "outputs": [],
   "source": [
    "def train(model, trainloaders, valloaders, criterion, optimizer, lr_scheduler, num_epoch):\n",
    "    since =time.time()\n",
    "    val_acc_history = []\n",
    "    best_model_wts = copy.deepcopy(model.state_dict())\n",
    "    best_acc = 0.0\n",
    "\n",
    "    train_loss, val_loss = [], []\n",
    "    \n",
    "    for epoch in range(num_epoch):\n",
    "        \n",
    "        model.train()\n",
    "        optimizer = lr_scheduler(optimizer, epoch)\n",
    "        steps = 0\n",
    "        print('Epoch {}/{}'.format(epoch+1, num_epoch))\n",
    "        print('-'*10)\n",
    "                \n",
    "        running_loss = 0.0\n",
    "        running_corrects = 0 \n",
    "        for inputs, labels in trainloaders:\n",
    "            #print(\"train labels number:\",len(labels.data))\n",
    "            #model.train()\n",
    "            steps += 1\n",
    "            #print(\"train labels:\",labels.data)\n",
    "            inputs = inputs.cuda()\n",
    "            labels = labels.cuda()\n",
    "            optimizer.zero_grad()\n",
    "            \n",
    "            outputs = model(inputs)\n",
    "            loss_outputs = criterion(outputs, labels)\n",
    "            loss = loss_outputs\n",
    "            _,preds = torch.max(outputs,1)\n",
    "            \n",
    "            loss.backward()\n",
    "            optimizer.step()\n",
    "    \n",
    "            running_loss += loss.item() \n",
    "            running_corrects += torch.sum(preds == labels.data)\n",
    "        \n",
    "        val_running_loss = 0.0\n",
    "        val_running_corrects = 0\n",
    "        model.eval()\n",
    "        step = 0\n",
    "        with torch.no_grad():\n",
    "            for inputs, labels in valloaders:\n",
    "                step += 1\n",
    "                inputs = inputs.cuda()\n",
    "                labels = labels.cuda()\n",
    "                outputs = model(inputs)\n",
    "                loss = criterion(outputs, labels)\n",
    "                val_running_loss += loss.item()\n",
    "                _,preds = torch.max(outputs,1)\n",
    "                val_running_corrects += torch.sum(preds == labels.data)\n",
    "\n",
    "        train_loss.append(running_loss / len(trainloaders))\n",
    "        val_loss.append(val_running_loss / len(valloaders))\n",
    "        \n",
    "        train_acc = running_corrects.double() / len(trainloaders.dataset)\n",
    "        val_acc = val_running_corrects.double() / len(valloaders.dataset)\n",
    "        \n",
    "        print(f\"Train loss: {running_loss / len(trainloaders):.3f}..\"\n",
    "              f\"Train accuracy:{train_acc:.3f}..\"\n",
    "              f\"Val loss: {val_running_loss/len(valloaders):.3f}..\"\n",
    "              f\"Val accuracy: {val_acc:.3f}..\"\n",
    "             )\n",
    "\n",
    "                \n",
    "        # deep copy the model\n",
    "        if val_acc > best_acc:\n",
    "            best_acc = val_acc\n",
    "            best_model_wts = copy.deepcopy(model.state_dict())\n",
    "            val_acc_history.append(val_acc)\n",
    "\n",
    "\n",
    "\n",
    "    time_elapsed = time.time() - since\n",
    "    print('Training complete in {:.0f}m {:.0f}s'.format(time_elapsed // 60, time_elapsed % 60))\n",
    "    print('Best val Acc: {:4f}'.format(best_acc))\n",
    "    conf_matrix = confusion_matrix(preds.data.cpu().numpy(), labels.data.cpu().numpy())\n",
    "    print(conf_matrix)\n",
    "    # load best model weights\n",
    "    model.load_state_dict(best_model_wts)\n",
    "    \n",
    "    return model, val_acc_history, train_loss, val_loss, conf_matrix\n",
    "    "
   ]
  },
  {
   "cell_type": "code",
   "execution_count": 15,
   "metadata": {
    "scrolled": true
   },
   "outputs": [
    {
     "name": "stdout",
     "output_type": "stream",
     "text": [
      "LR is set to 5e-05\n",
      "Epoch 1/20\n",
      "----------\n",
      "Train loss: 1.314..Train accuracy:0.421..Val loss: 1.286..Val accuracy: 0.483..\n",
      "Epoch 2/20\n",
      "----------\n",
      "Train loss: 1.160..Train accuracy:0.597..Val loss: 1.201..Val accuracy: 0.524..\n",
      "Epoch 3/20\n",
      "----------\n",
      "Train loss: 1.058..Train accuracy:0.616..Val loss: 1.110..Val accuracy: 0.561..\n",
      "Epoch 4/20\n",
      "----------\n",
      "Train loss: 0.968..Train accuracy:0.662..Val loss: 0.972..Val accuracy: 0.671..\n",
      "Epoch 5/20\n",
      "----------\n",
      "Train loss: 0.929..Train accuracy:0.672..Val loss: 0.933..Val accuracy: 0.664..\n",
      "Epoch 6/20\n",
      "----------\n",
      "Train loss: 0.885..Train accuracy:0.662..Val loss: 0.886..Val accuracy: 0.682..\n",
      "Epoch 7/20\n",
      "----------\n",
      "Train loss: 0.870..Train accuracy:0.684..Val loss: 0.860..Val accuracy: 0.689..\n",
      "Epoch 8/20\n",
      "----------\n",
      "Train loss: 0.840..Train accuracy:0.683..Val loss: 0.853..Val accuracy: 0.681..\n",
      "Epoch 9/20\n",
      "----------\n",
      "Train loss: 0.810..Train accuracy:0.700..Val loss: 0.824..Val accuracy: 0.701..\n",
      "Epoch 10/20\n",
      "----------\n",
      "Train loss: 0.757..Train accuracy:0.723..Val loss: 0.789..Val accuracy: 0.732..\n",
      "LR is set to 1.5e-05\n",
      "Epoch 11/20\n",
      "----------\n",
      "Train loss: 0.745..Train accuracy:0.731..Val loss: 0.782..Val accuracy: 0.718..\n",
      "Epoch 12/20\n",
      "----------\n",
      "Train loss: 0.754..Train accuracy:0.730..Val loss: 0.769..Val accuracy: 0.727..\n",
      "Epoch 13/20\n",
      "----------\n",
      "Train loss: 0.759..Train accuracy:0.723..Val loss: 0.797..Val accuracy: 0.708..\n",
      "Epoch 14/20\n",
      "----------\n",
      "Train loss: 0.752..Train accuracy:0.712..Val loss: 0.770..Val accuracy: 0.719..\n",
      "Epoch 15/20\n",
      "----------\n",
      "Train loss: 0.742..Train accuracy:0.709..Val loss: 0.756..Val accuracy: 0.738..\n",
      "Epoch 16/20\n",
      "----------\n",
      "Train loss: 0.740..Train accuracy:0.711..Val loss: 0.763..Val accuracy: 0.727..\n",
      "Epoch 17/20\n",
      "----------\n",
      "Train loss: 0.741..Train accuracy:0.708..Val loss: 0.747..Val accuracy: 0.731..\n",
      "Epoch 18/20\n",
      "----------\n",
      "Train loss: 0.744..Train accuracy:0.729..Val loss: 0.752..Val accuracy: 0.728..\n",
      "Epoch 19/20\n",
      "----------\n",
      "Train loss: 0.724..Train accuracy:0.739..Val loss: 0.741..Val accuracy: 0.733..\n",
      "Epoch 20/20\n",
      "----------\n",
      "Train loss: 0.721..Train accuracy:0.734..Val loss: 0.750..Val accuracy: 0.722..\n",
      "Training complete in 5m 27s\n",
      "Best val Acc: 0.738000\n",
      "[[16  4  4  0]\n",
      " [ 2 13  3  2]\n",
      " [ 4  3 24  3]\n",
      " [ 0  2  3 21]]\n"
     ]
    },
    {
     "data": {
      "image/png": "[encoded data removed]",
      "text/plain": [
       "<Figure size 432x288 with 1 Axes>"
      ]
     },
     "metadata": {
      "needs_background": "light"
     },
     "output_type": "display_data"
    }
   ],
   "source": [
    "criterion = nn.CrossEntropyLoss()\n",
    "optimizer = optimizer_resnet\n",
    "_, hist,train_loss,val_loss,cm = train(resnet, train_loader, val_loader, criterion, optimizer, exp_lr_scheduler, num_epoch =20)\n",
    "\n",
    "plt.plot(train_loss, label='Training loss')\n",
    "plt.plot(val_loss, label='Validation loss')\n",
    "plt.legend(frameon=False)\n",
    "plt.savefig(\"model_3.png\")\n",
    "plt.show()\n",
    "\n",
    "\n",
    "\n"
   ]
  },
  {
   "cell_type": "code",
   "execution_count": 16,
   "metadata": {},
   "outputs": [
    {
     "name": "stdout",
     "output_type": "stream",
     "text": [
      "[[16  4  4  0]\n",
      " [ 2 13  3  2]\n",
      " [ 4  3 24  3]\n",
      " [ 0  2  3 21]]\n"
     ]
    }
   ],
   "source": [
    "print(cm)"
   ]
  },
  {
   "cell_type": "code",
   "execution_count": 17,
   "metadata": {},
   "outputs": [],
   "source": [
    "def inference(model, testloaders, criterion):\n",
    "    test_running_corrects = 0\n",
    "    test_running_loss = 0\n",
    "    with torch.no_grad():\n",
    "        for inputs, labels in testloaders:\n",
    "            inputs = inputs.cuda()\n",
    "            labels = labels.cuda()\n",
    "            outputs = model(inputs)\n",
    "            loss = criterion(outputs, labels)\n",
    "            test_running_loss += loss.item()\n",
    "            _,preds = torch.max(outputs,1)\n",
    "            \n",
    "            test_running_corrects += torch.sum(preds == labels.data)\n",
    "\n",
    "    test_acc = test_running_corrects.double() / len(testloaders.dataset)\n",
    "    conf_matrix = confusion_matrix(preds.data.cpu().numpy(), labels.data.cpu().numpy())\n",
    "    print(conf_matrix)\n",
    "    print(f\"Loss of the network on the 1000 test images: {test_running_loss/len(testloaders):.3f}..\"\n",
    "          f\"Accuracy of the network on the 1000 test images: {test_acc:.3f}..\"\n",
    "         )"
   ]
  },
  {
   "cell_type": "code",
   "execution_count": 18,
   "metadata": {},
   "outputs": [
    {
     "name": "stdout",
     "output_type": "stream",
     "text": [
      "[[21  5  3  0]\n",
      " [ 2 14  0  2]\n",
      " [ 2  2 24  1]\n",
      " [ 0  1  0 27]]\n",
      "Loss of the network on the 1000 test images: 0.580..Accuracy of the network on the 1000 test images: 0.842..\n"
     ]
    }
   ],
   "source": [
    "inference(resnet, test_loader, criterion)"
   ]
  },
  {
   "cell_type": "code",
   "execution_count": null,
   "metadata": {},
   "outputs": [],
   "source": []
  }
 ],
 "metadata": {
  "kernelspec": {
   "display_name": "Python 3",
   "language": "python",
   "name": "python3"
  },
  "language_info": {
   "codemirror_mode": {
    "name": "ipython",
    "version": 3
   },
   "file_extension": ".py",
   "mimetype": "text/x-python",
   "name": "python",
   "nbconvert_exporter": "python",
   "pygments_lexer": "ipython3",
   "version": "3.6.8"
  }
 },
 "nbformat": 4,
 "nbformat_minor": 2
}
