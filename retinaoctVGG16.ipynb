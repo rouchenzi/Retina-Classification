{
 "cells": [
  {
   "cell_type": "markdown",
   "metadata": {},
   "source": [
    "## 记得把loss改成和inceptionv3版本一样的\n"
   ]
  },
  {
   "cell_type": "code",
   "execution_count": 1,
   "metadata": {},
   "outputs": [],
   "source": [
    "from torchvision import transforms, utils\n",
    "from torchvision import datasets\n",
    "import torch\n",
    "import matplotlib.pyplot as plt \n",
    "from torch.utils import data\n",
    "import random\n",
    "import numpy as np\n",
    "import torch.nn as nn\n",
    "import torch.optim as optim\n",
    "import time\n",
    "from torch.utils.data.sampler import SubsetRandomSampler\n",
    "import copy\n",
    "from sklearn.metrics import confusion_matrix"
   ]
  },
  {
   "cell_type": "markdown",
   "metadata": {},
   "source": [
    "## load data"
   ]
  },
  {
   "cell_type": "code",
   "execution_count": 2,
   "metadata": {},
   "outputs": [],
   "source": [
    "# def splitData(datadir,val_size = 0.2):\n",
    "    \n",
    "#     train_trainsforms = transforms.Compose([transforms.RandomResizedCrop(299),\n",
    "#                 transforms.RandomHorizontalFlip(),\n",
    "#                 transforms.RandomRotation(30),\n",
    "#                 transforms.ToTensor(),\n",
    "#                 #transforms.Normalize((0.485, 0.456, 0.406),(0.229, 0.224, 0.225))])\n",
    "#                 transforms.Normalize((0.5, 0.5, 0.5),(0.5, 0.5, 0.5))])\n",
    "#     val_trainsforms = transforms.Compose([transforms.RandomResizedCrop(299),\n",
    "#                 transforms.ToTensor(),\n",
    "#                 transforms.Normalize((0.5, 0.5, 0.5),(0.5, 0.5, 0.5))\n",
    "# ])\n",
    "\n",
    "#     train_data = datasets.ImageFolder(datadir,transform=train_trainsforms)\n",
    "#     val_data = datasets.ImageFolder(datadir,transform=val_trainsforms)\n",
    "\n",
    "#     num = len(train_data)                              \n",
    "#     idx = list(range(num))                         \n",
    "#     split = int(np.floor(val_size * num))         \n",
    "#     np.random.shuffle(idx)                              \n",
    "\n",
    "#     val_idx, train_idx = idx[:split], idx[split:]\n",
    "#     train_sampler = SubsetRandomSampler(train_idx)            \n",
    "#     val_sampler  = SubsetRandomSampler(val_idx)\n",
    "#     train_loader = data.DataLoader(train_data,sampler=train_sampler,batch_size=64)\n",
    "#     val_loader = data.DataLoader(val_data,sampler=val_sampler,batch_size=64)\n",
    "    \n",
    "#     return train_loader,val_loader\n"
   ]
  },
  {
   "cell_type": "code",
   "execution_count": 3,
   "metadata": {},
   "outputs": [],
   "source": [
    "def make_weights_for_balanced_classes(images, nclasses):                        \n",
    "    count = [0] * nclasses                                                      \n",
    "    for item in images:                                                         \n",
    "        count[item[1]] += 1                                                     \n",
    "    weight_per_class = [0.] * nclasses                                      \n",
    "    N = float(sum(count))                                                   \n",
    "    for i in range(nclasses):                                                   \n",
    "        weight_per_class[i] = 1/float(count[i])                                 \n",
    "    weight = [0] * len(images)                                              \n",
    "    for idx, val in enumerate(images):                                          \n",
    "        weight[idx] = weight_per_class[val[1]]  \n",
    "    print(N)\n",
    "    print(weight_per_class)\n",
    "    return weight"
   ]
  },
  {
   "cell_type": "code",
   "execution_count": 4,
   "metadata": {},
   "outputs": [
    {
     "name": "stdout",
     "output_type": "stream",
     "text": [
      "1600.0\n",
      "[0.0025, 0.0025, 0.0025, 0.0025]\n"
     ]
    },
    {
     "name": "stderr",
     "output_type": "stream",
     "text": [
      "/home/ruochenwen/anaconda3/envs/fastai/lib/python3.6/site-packages/torch/utils/data/sampler.py:115: UserWarning: To copy construct from a tensor, it is recommended to use sourceTensor.clone().detach() or sourceTensor.clone().detach().requires_grad_(True), rather than torch.tensor(sourceTensor).\n",
      "  self.weights = torch.tensor(weights, dtype=torch.double)\n"
     ]
    }
   ],
   "source": [
    "#train_data_dir = 'OCT2017/test/'\n",
    "#train_loader, val_loader = splitData(train_data_dir,val_size = 0.2)\n",
    "batch_size = 128\n",
    "train_size = 1600\n",
    "img_size = 224\n",
    "train_data = datasets.ImageFolder(root='OCT2017/train_limit/', transform=transforms.Compose([\n",
    "    transforms.CenterCrop(img_size),\n",
    "    transforms.RandomHorizontalFlip(),\n",
    "    transforms.RandomRotation(30),\n",
    "    transforms.ToTensor(),\n",
    "    transforms.Normalize((0.5, 0.5, 0.5),(0.5, 0.5, 0.5))\n",
    "]))\n",
    "\n",
    "val_data = datasets.ImageFolder(root='OCT2017/val/', transform=transforms.Compose([\n",
    "    transforms.CenterCrop(img_size),\n",
    "    transforms.ToTensor(),\n",
    "    transforms.Normalize((0.5, 0.5, 0.5),(0.5, 0.5, 0.5))\n",
    "]))\n",
    "\n",
    "test_data = datasets.ImageFolder(root='OCT2017/test/', transform=transforms.Compose([\n",
    "    transforms.CenterCrop(img_size),\n",
    "    transforms.ToTensor(),\n",
    "    transforms.Normalize((0.5, 0.5, 0.5),(0.5, 0.5, 0.5))\n",
    "]))\n",
    "\n",
    "weights = make_weights_for_balanced_classes(train_data.imgs, len(train_data.classes))\n",
    "weights = torch.DoubleTensor(weights)\n",
    "weight_sampler = torch.utils.data.sampler.WeightedRandomSampler(weights, train_size)\n",
    "#weight_sampler = torch.utils.data.sampler.WeightedRandomSampler(weights, train_size)\n",
    "\n",
    "train_loader = data.DataLoader(train_data,\n",
    "                               batch_size=batch_size,\n",
    "                               sampler = weight_sampler\n",
    "                                            )\n",
    "       \n",
    "\n",
    "val_loader = data.DataLoader(val_data,\n",
    "                             batch_size=batch_size,\n",
    "                             shuffle=True,\n",
    "                                        )\n",
    "\n",
    "\n",
    "test_loader = data.DataLoader(test_data,\n",
    "                                            batch_size=batch_size,\n",
    "                                            shuffle=True,\n",
    "                                            )\n",
    "       \n"
   ]
  },
  {
   "cell_type": "code",
   "execution_count": 5,
   "metadata": {},
   "outputs": [
    {
     "name": "stdout",
     "output_type": "stream",
     "text": [
      "1000\n"
     ]
    },
    {
     "data": {
      "text/plain": [
       "[2.232011906372615, 7.4323301495765, 9.859431030360986, 3.164550163053904]"
      ]
     },
     "execution_count": 5,
     "metadata": {},
     "output_type": "execute_result"
    }
   ],
   "source": [
    "print(len(val_loader.dataset))\n",
    "82484.0\n",
    "[2.232011906372615, 7.4323301495765, 9.859431030360986, 3.164550163053904]\n"
   ]
  },
  {
   "cell_type": "markdown",
   "metadata": {},
   "source": [
    "## load pre-trained model"
   ]
  },
  {
   "cell_type": "code",
   "execution_count": 6,
   "metadata": {},
   "outputs": [],
   "source": [
    "import torchvision.models as models\n",
    "vgg16 = models.vgg16(pretrained=True)\n"
   ]
  },
  {
   "cell_type": "code",
   "execution_count": 7,
   "metadata": {},
   "outputs": [
    {
     "name": "stdout",
     "output_type": "stream",
     "text": [
      "VGG(\n",
      "  (features): Sequential(\n",
      "    (0): Conv2d(3, 64, kernel_size=(3, 3), stride=(1, 1), padding=(1, 1))\n",
      "    (1): ReLU(inplace)\n",
      "    (2): Conv2d(64, 64, kernel_size=(3, 3), stride=(1, 1), padding=(1, 1))\n",
      "    (3): ReLU(inplace)\n",
      "    (4): MaxPool2d(kernel_size=2, stride=2, padding=0, dilation=1, ceil_mode=False)\n",
      "    (5): Conv2d(64, 128, kernel_size=(3, 3), stride=(1, 1), padding=(1, 1))\n",
      "    (6): ReLU(inplace)\n",
      "    (7): Conv2d(128, 128, kernel_size=(3, 3), stride=(1, 1), padding=(1, 1))\n",
      "    (8): ReLU(inplace)\n",
      "    (9): MaxPool2d(kernel_size=2, stride=2, padding=0, dilation=1, ceil_mode=False)\n",
      "    (10): Conv2d(128, 256, kernel_size=(3, 3), stride=(1, 1), padding=(1, 1))\n",
      "    (11): ReLU(inplace)\n",
      "    (12): Conv2d(256, 256, kernel_size=(3, 3), stride=(1, 1), padding=(1, 1))\n",
      "    (13): ReLU(inplace)\n",
      "    (14): Conv2d(256, 256, kernel_size=(3, 3), stride=(1, 1), padding=(1, 1))\n",
      "    (15): ReLU(inplace)\n",
      "    (16): MaxPool2d(kernel_size=2, stride=2, padding=0, dilation=1, ceil_mode=False)\n",
      "    (17): Conv2d(256, 512, kernel_size=(3, 3), stride=(1, 1), padding=(1, 1))\n",
      "    (18): ReLU(inplace)\n",
      "    (19): Conv2d(512, 512, kernel_size=(3, 3), stride=(1, 1), padding=(1, 1))\n",
      "    (20): ReLU(inplace)\n",
      "    (21): Conv2d(512, 512, kernel_size=(3, 3), stride=(1, 1), padding=(1, 1))\n",
      "    (22): ReLU(inplace)\n",
      "    (23): MaxPool2d(kernel_size=2, stride=2, padding=0, dilation=1, ceil_mode=False)\n",
      "    (24): Conv2d(512, 512, kernel_size=(3, 3), stride=(1, 1), padding=(1, 1))\n",
      "    (25): ReLU(inplace)\n",
      "    (26): Conv2d(512, 512, kernel_size=(3, 3), stride=(1, 1), padding=(1, 1))\n",
      "    (27): ReLU(inplace)\n",
      "    (28): Conv2d(512, 512, kernel_size=(3, 3), stride=(1, 1), padding=(1, 1))\n",
      "    (29): ReLU(inplace)\n",
      "    (30): MaxPool2d(kernel_size=2, stride=2, padding=0, dilation=1, ceil_mode=False)\n",
      "  )\n",
      "  (classifier): Sequential(\n",
      "    (0): Linear(in_features=25088, out_features=4096, bias=True)\n",
      "    (1): ReLU(inplace)\n",
      "    (2): Dropout(p=0.5)\n",
      "    (3): Linear(in_features=4096, out_features=4096, bias=True)\n",
      "    (4): ReLU(inplace)\n",
      "    (5): Dropout(p=0.5)\n",
      "    (6): Linear(in_features=4096, out_features=1000, bias=True)\n",
      "  )\n",
      ")\n"
     ]
    }
   ],
   "source": [
    "print(vgg16)"
   ]
  },
  {
   "cell_type": "markdown",
   "metadata": {},
   "source": [
    "## parameter setting"
   ]
  },
  {
   "cell_type": "code",
   "execution_count": 8,
   "metadata": {},
   "outputs": [],
   "source": [
    "def set_parameter_requires_grad(model, feature_extracting):\n",
    "    if feature_extracting:\n",
    "        for param in model.parameters():\n",
    "            param.requires_grad = False\n"
   ]
  },
  {
   "cell_type": "code",
   "execution_count": 9,
   "metadata": {},
   "outputs": [],
   "source": [
    "feature_extract = False\n",
    "set_parameter_requires_grad(vgg16, feature_extract)\n",
    "num_ftrs = vgg16.classifier[6].in_features\n",
    "vgg16.classifier[6] = nn.Linear(num_ftrs,4)"
   ]
  },
  {
   "cell_type": "markdown",
   "metadata": {},
   "source": [
    "## optimizer setting"
   ]
  },
  {
   "cell_type": "code",
   "execution_count": 10,
   "metadata": {},
   "outputs": [
    {
     "name": "stdout",
     "output_type": "stream",
     "text": [
      "Params to learn:\n",
      "fine tune:\n",
      "\t features.0.weight\n",
      "\t features.0.bias\n",
      "\t features.2.weight\n",
      "\t features.2.bias\n",
      "\t features.5.weight\n",
      "\t features.5.bias\n",
      "\t features.7.weight\n",
      "\t features.7.bias\n",
      "\t features.10.weight\n",
      "\t features.10.bias\n",
      "\t features.12.weight\n",
      "\t features.12.bias\n",
      "\t features.14.weight\n",
      "\t features.14.bias\n",
      "\t features.17.weight\n",
      "\t features.17.bias\n",
      "\t features.19.weight\n",
      "\t features.19.bias\n",
      "\t features.21.weight\n",
      "\t features.21.bias\n",
      "\t features.24.weight\n",
      "\t features.24.bias\n",
      "\t features.26.weight\n",
      "\t features.26.bias\n",
      "\t features.28.weight\n",
      "\t features.28.bias\n",
      "\t classifier.0.weight\n",
      "\t classifier.0.bias\n",
      "\t classifier.3.weight\n",
      "\t classifier.3.bias\n",
      "\t classifier.6.weight\n",
      "\t classifier.6.bias\n"
     ]
    }
   ],
   "source": [
    "params_to_update = vgg16.parameters()\n",
    "print\n",
    "print(\"Params to learn:\")\n",
    "if feature_extract:\n",
    "    params_to_update = []\n",
    "    for name,param in vgg16.named_parameters():\n",
    "        if param.requires_grad == True:\n",
    "            params_to_update.append(param)\n",
    "            print(name)\n",
    "else:\n",
    "    print(\"fine tune:\")\n",
    "    for name,param in vgg16.named_parameters():\n",
    "        if param.requires_grad == True:\n",
    "            print(\"\\t\",name)\n",
    "           \n",
    "        \n",
    "\n",
    "# Observe that all parameters are being optimized\n",
    "#optimizer_vgg16 = optim.SGD(params_to_update, lr=0.001, momentum=0.9)\n",
    "\n",
    "optimizer_vgg16 = optim.Adam(list(filter(lambda p: p.requires_grad, vgg16.parameters())), lr=5e-6, betas=(0.9, 0.99))\n",
    "#optimizer_vgg16 = optim.Adam(params_to_update, lr=0.001, betas=(0.9, 0.99))\n",
    "#optimizer_vgg16 = optim.Adam([{'params': weight_p, 'weight_decay':1e-3},\n",
    "#                      {'params': bias_p, 'weight_decay':0}], lr=0.001, betas=(0.9, 0.99))"
   ]
  },
  {
   "cell_type": "code",
   "execution_count": 11,
   "metadata": {},
   "outputs": [
    {
     "name": "stdout",
     "output_type": "stream",
     "text": [
      "32\n"
     ]
    }
   ],
   "source": [
    "print(len(list(filter(lambda p: p.requires_grad, vgg16.parameters()))))"
   ]
  },
  {
   "cell_type": "code",
   "execution_count": 12,
   "metadata": {},
   "outputs": [],
   "source": [
    "def exp_lr_scheduler(optimizer, epoch, init_lr=5e-5, lr_decay_epoch=5):\n",
    "    \"\"\"Decay learning rate by a factor of 0.1 every lr_decay_epoch epochs.\"\"\"\n",
    "    #lr = init_lr * (0.1**(epoch // lr_decay_epoch))\n",
    "    lr = init_lr \n",
    "    if epoch % lr_decay_epoch == 0:\n",
    "        \n",
    "        print('LR is set to {}'.format(lr))\n",
    " \n",
    "    for param_group in optimizer.param_groups:\n",
    "        param_group['lr'] = lr\n",
    " \n",
    "    return optimizer\n"
   ]
  },
  {
   "cell_type": "markdown",
   "metadata": {},
   "source": [
    "## train model"
   ]
  },
  {
   "cell_type": "code",
   "execution_count": 13,
   "metadata": {},
   "outputs": [],
   "source": [
    "use_cuda = 1\n",
    "if use_cuda:\n",
    "    vgg16 = vgg16.cuda()"
   ]
  },
  {
   "cell_type": "code",
   "execution_count": 14,
   "metadata": {},
   "outputs": [],
   "source": [
    "def train(model, trainloaders, valloaders, criterion, optimizer, lr_scheduler, num_epoch = 3):\n",
    "    since =time.time()\n",
    "    val_acc_history = []\n",
    "    best_model_wts = copy.deepcopy(model.state_dict())\n",
    "    best_acc = 0.0\n",
    "\n",
    "    train_loss, val_loss = [], []\n",
    "    \n",
    "    for epoch in range(num_epoch):\n",
    "        \n",
    "        optimizer = lr_scheduler(optimizer, epoch)\n",
    "        steps = 0\n",
    "        print('Epoch {}/{}'.format(epoch+1, num_epoch))\n",
    "        print('-'*10)\n",
    "                \n",
    "        running_loss = 0.0\n",
    "        running_corrects = 0 \n",
    "        for inputs, labels in trainloaders:\n",
    "            \n",
    "            model.train()\n",
    "            steps += 1\n",
    "            #print(steps)\n",
    "            \n",
    "            inputs = inputs.cuda()\n",
    "            labels = labels.cuda()\n",
    "\n",
    "            optimizer.zero_grad()\n",
    "            \n",
    "            outputs= model(inputs)\n",
    "            loss_outputs = criterion(outputs, labels)\n",
    "            loss = loss_outputs \n",
    "\n",
    "            _,preds = torch.max(outputs,1)\n",
    "\n",
    "            loss.backward()\n",
    "            optimizer.step()\n",
    "    \n",
    "            running_loss += loss.item() \n",
    "            running_corrects += torch.sum(preds == labels.data)\n",
    "            #print(\"loss:\", loss.item())\n",
    "            #if steps % print_every == 0:\n",
    "\n",
    "        val_running_loss = 0.0\n",
    "        val_running_corrects = 0\n",
    "        model.eval()\n",
    "        step = 0\n",
    "        with torch.no_grad():\n",
    "            for inputs, labels in valloaders:\n",
    "                step += 1\n",
    "                #print(step)\n",
    "                inputs = inputs.cuda()\n",
    "                labels = labels.cuda()\n",
    "                outputs = model(inputs)\n",
    "                loss = criterion(outputs, labels)\n",
    "                val_running_loss += loss.item()\n",
    "                _,preds = torch.max(outputs,1)\n",
    "                #print(preds)\n",
    "                val_running_corrects += torch.sum(preds == labels.data)\n",
    "\n",
    "        train_loss.append(running_loss / len(trainloaders))\n",
    "        val_loss.append(val_running_loss / len(valloaders))\n",
    "        \n",
    "        #train_acc = running_corrects.double() / len(trainloaders.dataset)\n",
    "        #val_acc = val_running_corrects.double() / len(valloaders.dataset)\n",
    "       \n",
    "        train_acc = running_corrects.double() / len(trainloaders.dataset)\n",
    "        val_acc = val_running_corrects.double() / len(valloaders.dataset)\n",
    "        \n",
    "        print(f\"Train loss: {running_loss / len(trainloaders):.3f}..\"\n",
    "              f\"Train accuracy:{train_acc:.3f}..\"\n",
    "              f\"Val loss: {val_running_loss/len(valloaders):.3f}..\"\n",
    "              f\"Val accuracy: {val_acc:.3f}..\"\n",
    "             )\n",
    "\n",
    "                \n",
    "        # deep copy the model\n",
    "        if val_acc > best_acc:\n",
    "            best_acc = val_acc\n",
    "            best_model_wts = copy.deepcopy(model.state_dict())\n",
    "            val_acc_history.append(val_acc)\n",
    "\n",
    "   # print()\n",
    "\n",
    "    time_elapsed = time.time() - since\n",
    "    print('Training complete in {:.0f}m {:.0f}s'.format(time_elapsed // 60, time_elapsed % 60))\n",
    "    print('Best val Acc: {:4f}'.format(best_acc))\n",
    "    conf_matrix = confusion_matrix(preds.data.cpu().numpy(), labels.data.cpu().numpy())\n",
    "    print(conf_matrix)\n",
    "    # load best model weights\n",
    "    model.load_state_dict(best_model_wts)\n",
    "    \n",
    "    #return model, val_acc_history  \n",
    "    return model, val_acc_history, train_loss, val_loss, conf_matrix\n",
    "    "
   ]
  },
  {
   "cell_type": "code",
   "execution_count": 15,
   "metadata": {
    "scrolled": true
   },
   "outputs": [
    {
     "name": "stdout",
     "output_type": "stream",
     "text": [
      "LR is set to 5e-05\n",
      "Epoch 1/30\n",
      "----------\n",
      "Train loss: 1.085..Train accuracy:0.520..Val loss: 0.718..Val accuracy: 0.693..\n",
      "Epoch 2/30\n",
      "----------\n",
      "Train loss: 0.616..Train accuracy:0.738..Val loss: 0.536..Val accuracy: 0.784..\n",
      "Epoch 3/30\n",
      "----------\n",
      "Train loss: 0.461..Train accuracy:0.829..Val loss: 0.419..Val accuracy: 0.839..\n",
      "Epoch 4/30\n",
      "----------\n",
      "Train loss: 0.383..Train accuracy:0.864..Val loss: 0.393..Val accuracy: 0.854..\n",
      "Epoch 5/30\n",
      "----------\n",
      "Train loss: 0.376..Train accuracy:0.868..Val loss: 0.402..Val accuracy: 0.845..\n",
      "LR is set to 5e-05\n",
      "Epoch 6/30\n",
      "----------\n",
      "Train loss: 0.336..Train accuracy:0.881..Val loss: 0.425..Val accuracy: 0.840..\n",
      "Epoch 7/30\n",
      "----------\n",
      "Train loss: 0.274..Train accuracy:0.904..Val loss: 0.407..Val accuracy: 0.855..\n",
      "Epoch 8/30\n",
      "----------\n",
      "Train loss: 0.285..Train accuracy:0.894..Val loss: 0.441..Val accuracy: 0.852..\n",
      "Epoch 9/30\n",
      "----------\n",
      "Train loss: 0.258..Train accuracy:0.906..Val loss: 0.382..Val accuracy: 0.871..\n",
      "Epoch 10/30\n",
      "----------\n",
      "Train loss: 0.202..Train accuracy:0.931..Val loss: 0.354..Val accuracy: 0.878..\n",
      "LR is set to 5e-05\n",
      "Epoch 11/30\n",
      "----------\n",
      "Train loss: 0.183..Train accuracy:0.933..Val loss: 0.356..Val accuracy: 0.884..\n",
      "Epoch 12/30\n",
      "----------\n",
      "Train loss: 0.178..Train accuracy:0.937..Val loss: 0.378..Val accuracy: 0.886..\n",
      "Epoch 13/30\n",
      "----------\n",
      "Train loss: 0.146..Train accuracy:0.943..Val loss: 0.392..Val accuracy: 0.889..\n",
      "Epoch 14/30\n",
      "----------\n",
      "Train loss: 0.140..Train accuracy:0.946..Val loss: 0.454..Val accuracy: 0.879..\n",
      "Epoch 15/30\n",
      "----------\n",
      "Train loss: 0.113..Train accuracy:0.963..Val loss: 0.485..Val accuracy: 0.889..\n",
      "LR is set to 5e-05\n",
      "Epoch 16/30\n",
      "----------\n",
      "Train loss: 0.118..Train accuracy:0.960..Val loss: 0.475..Val accuracy: 0.884..\n",
      "Epoch 17/30\n",
      "----------\n",
      "Train loss: 0.137..Train accuracy:0.948..Val loss: 0.455..Val accuracy: 0.870..\n",
      "Epoch 18/30\n",
      "----------\n",
      "Train loss: 0.097..Train accuracy:0.963..Val loss: 0.444..Val accuracy: 0.882..\n",
      "Epoch 19/30\n",
      "----------\n",
      "Train loss: 0.075..Train accuracy:0.973..Val loss: 0.496..Val accuracy: 0.882..\n",
      "Epoch 20/30\n",
      "----------\n",
      "Train loss: 0.058..Train accuracy:0.975..Val loss: 0.603..Val accuracy: 0.877..\n",
      "LR is set to 5e-05\n",
      "Epoch 21/30\n",
      "----------\n",
      "Train loss: 0.063..Train accuracy:0.979..Val loss: 0.558..Val accuracy: 0.882..\n",
      "Epoch 22/30\n",
      "----------\n",
      "Train loss: 0.067..Train accuracy:0.978..Val loss: 0.550..Val accuracy: 0.889..\n",
      "Epoch 23/30\n",
      "----------\n",
      "Train loss: 0.073..Train accuracy:0.974..Val loss: 0.602..Val accuracy: 0.883..\n",
      "Epoch 24/30\n",
      "----------\n",
      "Train loss: 0.079..Train accuracy:0.975..Val loss: 0.511..Val accuracy: 0.886..\n",
      "Epoch 25/30\n",
      "----------\n",
      "Train loss: 0.054..Train accuracy:0.983..Val loss: 0.626..Val accuracy: 0.872..\n",
      "LR is set to 5e-05\n",
      "Epoch 26/30\n",
      "----------\n",
      "Train loss: 0.103..Train accuracy:0.971..Val loss: 0.592..Val accuracy: 0.861..\n",
      "Epoch 27/30\n",
      "----------\n",
      "Train loss: 0.058..Train accuracy:0.979..Val loss: 0.540..Val accuracy: 0.886..\n",
      "Epoch 28/30\n",
      "----------\n",
      "Train loss: 0.038..Train accuracy:0.990..Val loss: 0.524..Val accuracy: 0.895..\n",
      "Epoch 29/30\n",
      "----------\n",
      "Train loss: 0.038..Train accuracy:0.988..Val loss: 0.790..Val accuracy: 0.856..\n",
      "Epoch 30/30\n",
      "----------\n",
      "Train loss: 0.050..Train accuracy:0.984..Val loss: 0.687..Val accuracy: 0.878..\n",
      "Training complete in 13m 37s\n",
      "Best val Acc: 0.895000\n",
      "[[23  1  0  1]\n",
      " [ 1 27  2  2]\n",
      " [ 2  0 20  0]\n",
      " [ 0  1  1 23]]\n"
     ]
    },
    {
     "data": {
      "image/png": "[encoded data removed]",
      "text/plain": [
       "<Figure size 432x288 with 1 Axes>"
      ]
     },
     "metadata": {
      "needs_background": "light"
     },
     "output_type": "display_data"
    }
   ],
   "source": [
    "criterion = nn.CrossEntropyLoss()\n",
    "optimizer = optimizer_vgg16\n",
    "_, hist,train_loss,val_loss,cm = train(vgg16, train_loader, val_loader, criterion, optimizer, exp_lr_scheduler, num_epoch =30)\n",
    "\n",
    "plt.plot(train_loss, label='Training loss')\n",
    "plt.plot(val_loss, label='Validation loss')\n",
    "plt.legend(frameon=False)\n",
    "plt.savefig(\"model_3.png\")\n",
    "plt.show()\n",
    "\n",
    "\n",
    "\n"
   ]
  },
  {
   "cell_type": "code",
   "execution_count": 16,
   "metadata": {},
   "outputs": [
    {
     "name": "stdout",
     "output_type": "stream",
     "text": [
      "[[23  1  0  1]\n",
      " [ 1 27  2  2]\n",
      " [ 2  0 20  0]\n",
      " [ 0  1  1 23]]\n"
     ]
    }
   ],
   "source": [
    "print(cm)"
   ]
  },
  {
   "cell_type": "code",
   "execution_count": 17,
   "metadata": {},
   "outputs": [],
   "source": [
    "def inference(model, testloaders, criterion):\n",
    "    test_running_corrects = 0\n",
    "    test_running_loss = 0\n",
    "    with torch.no_grad():\n",
    "        for inputs, labels in testloaders:\n",
    "            inputs = inputs.cuda()\n",
    "            labels = labels.cuda()\n",
    "            outputs = model(inputs)\n",
    "            loss = criterion(outputs, labels)\n",
    "            test_running_loss += loss.item()\n",
    "            _,preds = torch.max(outputs,1)\n",
    "            \n",
    "            test_running_corrects += torch.sum(preds == labels.data)\n",
    "\n",
    "    test_acc = test_running_corrects.double() / len(testloaders.dataset)\n",
    "    conf_matrix = confusion_matrix(preds.data.cpu().numpy(), labels.data.cpu().numpy())\n",
    "    print(conf_matrix)\n",
    "    print(f\"Loss of the network on the 1000 test images: {test_running_loss/len(testloaders):.3f}..\"\n",
    "          f\"Accuracy of the network on the 1000 test images: {test_acc:.3f}..\"\n",
    "         )"
   ]
  },
  {
   "cell_type": "code",
   "execution_count": 18,
   "metadata": {},
   "outputs": [
    {
     "name": "stdout",
     "output_type": "stream",
     "text": [
      "[[27  0  4  0]\n",
      " [ 0 25  0  0]\n",
      " [ 0  0 21  0]\n",
      " [ 0  0  0 27]]\n",
      "Loss of the network on the 1000 test images: 0.129..Accuracy of the network on the 1000 test images: 0.968..\n"
     ]
    }
   ],
   "source": [
    "inference(vgg16, test_loader, criterion)"
   ]
  },
  {
   "cell_type": "code",
   "execution_count": null,
   "metadata": {},
   "outputs": [],
   "source": []
  },
  {
   "cell_type": "code",
   "execution_count": null,
   "metadata": {},
   "outputs": [],
   "source": []
  }
 ],
 "metadata": {
  "kernelspec": {
   "display_name": "Python 3",
   "language": "python",
   "name": "python3"
  },
  "language_info": {
   "codemirror_mode": {
    "name": "ipython",
    "version": 3
   },
   "file_extension": ".py",
   "mimetype": "text/x-python",
   "name": "python",
   "nbconvert_exporter": "python",
   "pygments_lexer": "ipython3",
   "version": "3.6.8"
  }
 },
 "nbformat": 4,
 "nbformat_minor": 2
}
