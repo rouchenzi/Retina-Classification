{
 "cells": [
  {
   "cell_type": "code",
   "execution_count": 11,
   "metadata": {},
   "outputs": [],
   "source": [
    "\n",
    "import shutil\n",
    "def move(src, dst, copy_function=shutil.copy2):\n",
    "    \n",
    "    real_dst = dst\n",
    "    if os.path.isdir(dst):\n",
    "        if _samefile(src, dst):\n",
    "            os.rename(src, dst)\n",
    "            return\n",
    "\n",
    "        real_dst = os.path.join(dst, _basename(src))\n",
    "       # if os.path.exists(real_dst):\n",
    "       #     raise Error(\"Destination path '%s' already exists\" % real_dst)\n",
    "    try:\n",
    "        os.rename(src, real_dst)\n",
    "    except OSError:\n",
    "        if os.path.islink(src):\n",
    "            linkto = os.readlink(src)\n",
    "            os.symlink(linkto, real_dst)\n",
    "            os.unlink(src)\n",
    "        elif os.path.isdir(src):\n",
    "            if _destinsrc(src, dst):\n",
    "                raise Error(\"Cannot move a directory '%s' into itself\"\n",
    "                            \" '%s'.\" % (src, dst))\n",
    "            copytree(src, real_dst, copy_function=copy_function,\n",
    "                     symlinks=True)\n",
    "            rmtree(src)\n",
    "        else:\n",
    "            copy_function(src, real_dst)\n",
    "            os.unlink(src)\n",
    "    return real_dst"
   ]
  },
  {
   "cell_type": "code",
   "execution_count": 1,
   "metadata": {},
   "outputs": [],
   "source": [
    "import os\n",
    "import shutil\n",
    "from pathlib import Path"
   ]
  },
  {
   "cell_type": "code",
   "execution_count": 7,
   "metadata": {},
   "outputs": [
    {
     "name": "stdout",
     "output_type": "stream",
     "text": [
      "0\n",
      "8366\n"
     ]
    }
   ],
   "source": [
    "p = 'OCT2017/train'\n",
    "path = 'OCT2017/train_limit/DME'\n",
    "\n",
    "path_new = 'OCT2017/train/DME/'\n",
    "\n",
    "dn = os.listdir(path)\n",
    "#print(dn)\n",
    "count = 0 \n",
    "for i in dn[:400]:\n",
    "    \n",
    "    shutil.move(path+'/'+i, path_new)\n",
    "    \n",
    "# #print(len(os.listdir(p)))\n",
    "print(len(os.listdir(path)))\n",
    "\n",
    "print(len(os.listdir(path_new)))\n",
    "\n",
    "#print(len(os.listdir('OCT2017/val/CNV/')))"
   ]
  },
  {
   "cell_type": "code",
   "execution_count": null,
   "metadata": {},
   "outputs": [],
   "source": []
  },
  {
   "cell_type": "code",
   "execution_count": null,
   "metadata": {},
   "outputs": [],
   "source": []
  }
 ],
 "metadata": {
  "kernelspec": {
   "display_name": "Python 3",
   "language": "python",
   "name": "python3"
  },
  "language_info": {
   "codemirror_mode": {
    "name": "ipython",
    "version": 3
   },
   "file_extension": ".py",
   "mimetype": "text/x-python",
   "name": "python",
   "nbconvert_exporter": "python",
   "pygments_lexer": "ipython3",
   "version": "3.6.8"
  }
 },
 "nbformat": 4,
 "nbformat_minor": 2
}
